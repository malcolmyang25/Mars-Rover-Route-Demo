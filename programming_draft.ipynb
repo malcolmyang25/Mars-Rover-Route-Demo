{
 "cells": [
  {
   "cell_type": "code",
   "execution_count": 1,
   "outputs": [],
   "source": [
    "import matplotlib.pyplot as plt\n",
    "import pandas as pd"
   ],
   "metadata": {
    "collapsed": false,
    "pycharm": {
     "name": "#%%\n"
    }
   }
  },
  {
   "cell_type": "code",
   "execution_count": 2,
   "outputs": [],
   "source": [
    "# define the rover direction by Left or Right turn action\n",
    "def rover_turn (direction,turn):\n",
    "    if direction == 'N':\n",
    "        direction_val = 1\n",
    "    elif direction == 'E':\n",
    "        direction_val = 2\n",
    "    elif direction == 'S':\n",
    "        direction_val = 3\n",
    "    elif direction == 'W':\n",
    "        direction_val = 4\n",
    "    if turn == 'R':\n",
    "        turn_val = 1\n",
    "    elif turn == 'L' :\n",
    "        turn_val = -1\n",
    "    new_direction_val = direction_val + turn_val\n",
    "    if new_direction_val%4 == 0:\n",
    "        new_direction = 'W'\n",
    "    elif new_direction_val%4 == 1:\n",
    "        new_direction = 'N'\n",
    "    elif new_direction_val%4 == 2:\n",
    "        new_direction = 'E'\n",
    "    elif new_direction_val%4 == 3:\n",
    "        new_direction = 'S'\n",
    "    return new_direction"
   ],
   "metadata": {
    "collapsed": false,
    "pycharm": {
     "name": "#%%\n"
    }
   }
  },
  {
   "cell_type": "code",
   "execution_count": 3,
   "outputs": [],
   "source": [
    "# map the movement by rover direction and coordinate (x,y)\n",
    "def rover_move (loc_x,loc_y,direction,maker_symbol):\n",
    "    if direction == 'N':\n",
    "        loc_y = loc_y + 1\n",
    "    elif direction == 'E':\n",
    "        loc_x = loc_x + 1\n",
    "    elif direction == 'S':\n",
    "        loc_y = loc_y - 1\n",
    "    elif direction == 'W':\n",
    "        loc_x = loc_x - 1\n",
    "    return [['M',loc_x,loc_y,direction,maker_symbol]]"
   ],
   "metadata": {
    "collapsed": false,
    "pycharm": {
     "name": "#%%\n"
    }
   }
  },
  {
   "cell_type": "code",
   "execution_count": 4,
   "outputs": [],
   "source": [
    "def direction2maker (direction):\n",
    "    if direction == 'N':\n",
    "        maker_symbol = '^'\n",
    "    elif direction == 'E':\n",
    "        maker_symbol = '>'\n",
    "    elif direction == 'S':\n",
    "        maker_symbol = 'v'\n",
    "    elif direction == 'W':\n",
    "        maker_symbol = '<'\n",
    "    return maker_symbol"
   ],
   "metadata": {
    "collapsed": false,
    "pycharm": {
     "name": "#%%\n"
    }
   }
  },
  {
   "cell_type": "code",
   "execution_count": 5,
   "outputs": [],
   "source": [
    "# input\n",
    "grid_x = 5\n",
    "grid_y = 5\n",
    "loc_x_start = 1\n",
    "loc_y_start = 2\n",
    "direction_start = 'N'\n",
    "action = 'LMLMLMLMM'"
   ],
   "metadata": {
    "collapsed": false,
    "pycharm": {
     "name": "#%%\n"
    }
   }
  },
  {
   "cell_type": "code",
   "execution_count": 6,
   "outputs": [],
   "source": [
    "# initial location\n",
    "maker_start = direction2maker(direction_start)\n",
    "rows = [['S',loc_x_start,loc_y_start,direction_start,maker_start]]\n",
    "df = pd.DataFrame(rows, columns=[\"action\",\"xloc\",\"yloc\",\"dr\",\"maker_symbol\"])"
   ],
   "metadata": {
    "collapsed": false,
    "pycharm": {
     "name": "#%%\n"
    }
   }
  },
  {
   "cell_type": "code",
   "execution_count": 7,
   "outputs": [],
   "source": [
    "for i in range(len(action)):\n",
    "    if action[i:i+1] == 'L' or action[i:i+1] == 'R':\n",
    "        df = df.append(df[-1:])\n",
    "        df = df.reset_index(drop=True)\n",
    "        df_direction_new = rover_turn(df.at[len(df)-1,'dr'],action[i:i+1])\n",
    "        df.at[len(df)-1,'action'] = 'T'\n",
    "        df.at[len(df)-1,'dr'] = df_direction_new\n",
    "        df.at[len(df)-1,'maker_symbol'] = direction2maker(df_direction_new)\n",
    "    elif action[i:i+1] == 'M':\n",
    "        row = rover_move(df.at[len(df)-1,'xloc'],df.at[len(df)-1,'yloc'],df.at[len(df)-1,'dr'],df.at[len(df)-1,'maker_symbol'])\n",
    "        df_add = pd.DataFrame(row, columns=[\"action\",\"xloc\",\"yloc\",\"dr\",\"maker_symbol\"])\n",
    "        df = df.append(df_add)\n",
    "        df = df.reset_index(drop=True)"
   ],
   "metadata": {
    "collapsed": false,
    "pycharm": {
     "name": "#%%\n"
    }
   }
  },
  {
   "cell_type": "code",
   "execution_count": 8,
   "outputs": [
    {
     "name": "stdout",
     "output_type": "stream",
     "text": [
      "  action  xloc  yloc dr maker_symbol\n",
      "0      S     1     2  N            ^\n",
      "1      T     1     2  W            <\n",
      "2      M     0     2  W            <\n",
      "3      T     0     2  S            v\n",
      "4      M     0     1  S            v\n",
      "5      T     0     1  E            >\n",
      "6      M     1     1  E            >\n",
      "7      T     1     1  N            ^\n",
      "8      M     1     2  N            ^\n",
      "9      M     1     3  N            ^\n"
     ]
    }
   ],
   "source": [
    "print(df)"
   ],
   "metadata": {
    "collapsed": false,
    "pycharm": {
     "name": "#%%\n"
    }
   }
  },
  {
   "cell_type": "code",
   "execution_count": 9,
   "outputs": [
    {
     "name": "stdout",
     "output_type": "stream",
     "text": [
      "new location: 1 3 N\n"
     ]
    }
   ],
   "source": [
    "xloc_out = str(df.at[len(df)-1,'xloc'])\n",
    "yloc_out = str(df.at[len(df)-1,'yloc'])\n",
    "dr_out = str(df.at[len(df)-1,'dr'])\n",
    "print('new location:'+' '+xloc_out+' '+yloc_out+' '+dr_out)"
   ],
   "metadata": {
    "collapsed": false,
    "pycharm": {
     "name": "#%%\n"
    }
   }
  },
  {
   "cell_type": "code",
   "execution_count": 10,
   "outputs": [],
   "source": [
    "rows = []\n",
    "for x in range(5):\n",
    "    for y in range(5):\n",
    "        rows.append([x,y])\n",
    "df_map = pd.DataFrame(rows, columns=[\"xloc\",\"yloc\"])"
   ],
   "metadata": {
    "collapsed": false,
    "pycharm": {
     "name": "#%%\n"
    }
   }
  },
  {
   "cell_type": "code",
   "execution_count": 11,
   "outputs": [
    {
     "data": {
      "text/plain": "<Figure size 432x288 with 1 Axes>",
      "image/png": "[encoded data removed]"
     },
     "metadata": {
      "needs_background": "light"
     },
     "output_type": "display_data"
    }
   ],
   "source": [
    "for index, row in df_map.iterrows():\n",
    "    plt.scatter(row[\"xloc\"], row[\"yloc\"], marker='o',c='black')\n",
    "for index, row in df.iterrows():\n",
    "    plt.scatter(row[\"xloc\"], row[\"yloc\"], marker=row[\"maker_symbol\"],c='red',s=100)\n",
    "plt.plot('xloc','yloc',data=df)\n",
    "plt.axis('off')\n",
    "plt.show()"
   ],
   "metadata": {
    "collapsed": false,
    "pycharm": {
     "name": "#%%\n"
    }
   }
  }
 ],
 "metadata": {
  "kernelspec": {
   "display_name": "Python 3",
   "language": "python",
   "name": "python3"
  },
  "language_info": {
   "codemirror_mode": {
    "name": "ipython",
    "version": 2
   },
   "file_extension": ".py",
   "mimetype": "text/x-python",
   "name": "python",
   "nbconvert_exporter": "python",
   "pygments_lexer": "ipython2",
   "version": "2.7.6"
  }
 },
 "nbformat": 4,
 "nbformat_minor": 0
}